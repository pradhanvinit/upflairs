{
 "cells": [
  {
   "cell_type": "code",
   "execution_count": 2,
   "metadata": {},
   "outputs": [],
   "source": [
    "from time import sleep"
   ]
  },
  {
   "cell_type": "code",
   "execution_count": 5,
   "metadata": {},
   "outputs": [],
   "source": [
    "from time import sleep\n",
    "import cv2\n",
    "import matplotlib.pyplot as plt\n",
    "vid=cv2.VideoCapture(0)\n",
    "fd = cv2.CascadeClassifier(\n",
    "    cv2.data.haarcascades +\n",
    "    'haarcascade_frontalface_default.xml'\n",
    "    \n",
    ")\n",
    "sd = cv2.CascadeClassifier(\n",
    "    cv2.data.haarcascades +\n",
    "    'haarcascade_smile.xml'\n",
    "    \n",
    ")\n",
    "while True:\n",
    "    flag,img=vid.read()\n",
    "    if flag:\n",
    "        img_gray=cv2.cvtColor(img,cv2.COLOR_BGR2GRAY)\n",
    "        \n",
    "        #x1,y1,w,h=[200,400,300,400]\n",
    "        faces = fd.detectMultiScale(\n",
    "            img_gray,\n",
    "            scaleFactor =1.1,\n",
    "            minNeighbors=25,\n",
    "            minSize =(180,80)\n",
    "        )\n",
    "        for x1,y1,w,h in faces:\n",
    "        # img_cropped=img[y1:y1+h, x1:x1+w , :]\n",
    "            face = img_gray[y1:y1+h, x1:x1+w].copy()\n",
    "            smiles = sd.detectMultiScale(face,1.1,15, minSize=(50,50))\n",
    "            print(len(smiles))\n",
    "            if len(smiles) == 1:\n",
    "                xs,ys,ws,hs=smiles[0]\n",
    "                cv2.rectangle(img,\n",
    "                        pt1=(xs+x1,ys+y1),pt2=(xs+ws+x1,ys+hs+y1),\n",
    "                        color=(0,255,0),thickness=10)\n",
    "            \n",
    "            cv2.rectangle(\n",
    "                img,\n",
    "                pt1=(x1,y1),pt2=(x1+w,y1+h),\n",
    "                color=(0,255,0),thickness=10\n",
    "        )\n",
    "        \n",
    "        cv2.imshow('Preview',img)\n",
    "        cv2.imwrite('cam.png',img)\n",
    "        key= cv2.waitKey(1)\n",
    "        if key==ord('a'):\n",
    "            break\n",
    "    else:\n",
    "        break    \n",
    "    sleep(0.1)    \n",
    "vid.release()        \n",
    "cv2.destroyAllWindows()"
   ]
  },
  {
   "cell_type": "code",
   "execution_count": null,
   "metadata": {},
   "outputs": [],
   "source": [
    "cv2.imwrite('----.png',img)\n",
    "# To save a image"
   ]
  }
 ],
 "metadata": {
  "kernelspec": {
   "display_name": "Python 3",
   "language": "python",
   "name": "python3"
  },
  "language_info": {
   "codemirror_mode": {
    "name": "ipython",
    "version": 3
   },
   "file_extension": ".py",
   "mimetype": "text/x-python",
   "name": "python",
   "nbconvert_exporter": "python",
   "pygments_lexer": "ipython3",
   "version": "3.10.11"
  },
  "orig_nbformat": 4
 },
 "nbformat": 4,
 "nbformat_minor": 2
}
