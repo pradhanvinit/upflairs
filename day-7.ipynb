{
 "cells": [
  {
   "cell_type": "code",
   "execution_count": 15,
   "metadata": {},
   "outputs": [
    {
     "name": "stdout",
     "output_type": "stream",
     "text": [
      "Requirement already satisfied: cmake in c:\\users\\vinit\\appdata\\local\\packages\\pythonsoftwarefoundation.python.3.10_qbz5n2kfra8p0\\localcache\\local-packages\\python310\\site-packages (3.26.3)\n",
      "Requirement already satisfied: face_recognition in c:\\users\\vinit\\appdata\\local\\packages\\pythonsoftwarefoundation.python.3.10_qbz5n2kfra8p0\\localcache\\local-packages\\python310\\site-packages (1.3.0)\n",
      "Requirement already satisfied: face-recognition-models>=0.3.0 in c:\\users\\vinit\\appdata\\local\\packages\\pythonsoftwarefoundation.python.3.10_qbz5n2kfra8p0\\localcache\\local-packages\\python310\\site-packages (from face_recognition) (0.3.0)\n",
      "Requirement already satisfied: Click>=6.0 in c:\\users\\vinit\\appdata\\local\\packages\\pythonsoftwarefoundation.python.3.10_qbz5n2kfra8p0\\localcache\\local-packages\\python310\\site-packages (from face_recognition) (8.1.3)\n",
      "Requirement already satisfied: dlib>=19.7 in c:\\users\\vinit\\appdata\\local\\packages\\pythonsoftwarefoundation.python.3.10_qbz5n2kfra8p0\\localcache\\local-packages\\python310\\site-packages (from face_recognition) (19.22.99)\n",
      "Requirement already satisfied: numpy in c:\\users\\vinit\\appdata\\local\\packages\\pythonsoftwarefoundation.python.3.10_qbz5n2kfra8p0\\localcache\\local-packages\\python310\\site-packages (from face_recognition) (1.24.3)\n",
      "Requirement already satisfied: Pillow in c:\\users\\vinit\\appdata\\local\\packages\\pythonsoftwarefoundation.python.3.10_qbz5n2kfra8p0\\localcache\\local-packages\\python310\\site-packages (from face_recognition) (9.5.0)\n",
      "Requirement already satisfied: colorama in c:\\users\\vinit\\appdata\\local\\packages\\pythonsoftwarefoundation.python.3.10_qbz5n2kfra8p0\\localcache\\local-packages\\python310\\site-packages (from Click>=6.0->face_recognition) (0.4.6)\n"
     ]
    }
   ],
   "source": [
    "!python -m pip install cmake\n",
    "!python -m pip install face_recognition"
   ]
  },
  {
   "cell_type": "code",
   "execution_count": 16,
   "metadata": {},
   "outputs": [
    {
     "name": "stdout",
     "output_type": "stream",
     "text": [
      "Requirement already satisfied: plotly in c:\\users\\vinit\\appdata\\local\\packages\\pythonsoftwarefoundation.python.3.10_qbz5n2kfra8p0\\localcache\\local-packages\\python310\\site-packages (5.14.1)\n",
      "Requirement already satisfied: tenacity>=6.2.0 in c:\\users\\vinit\\appdata\\local\\packages\\pythonsoftwarefoundation.python.3.10_qbz5n2kfra8p0\\localcache\\local-packages\\python310\\site-packages (from plotly) (8.2.2)\n",
      "Requirement already satisfied: packaging in c:\\users\\vinit\\appdata\\local\\packages\\pythonsoftwarefoundation.python.3.10_qbz5n2kfra8p0\\localcache\\local-packages\\python310\\site-packages (from plotly) (23.1)\n",
      "Requirement already satisfied: pandas in c:\\users\\vinit\\appdata\\local\\packages\\pythonsoftwarefoundation.python.3.10_qbz5n2kfra8p0\\localcache\\local-packages\\python310\\site-packages (2.0.1)\n",
      "Requirement already satisfied: python-dateutil>=2.8.2 in c:\\users\\vinit\\appdata\\local\\packages\\pythonsoftwarefoundation.python.3.10_qbz5n2kfra8p0\\localcache\\local-packages\\python310\\site-packages (from pandas) (2.8.2)\n",
      "Requirement already satisfied: pytz>=2020.1 in c:\\users\\vinit\\appdata\\local\\packages\\pythonsoftwarefoundation.python.3.10_qbz5n2kfra8p0\\localcache\\local-packages\\python310\\site-packages (from pandas) (2023.3)\n",
      "Requirement already satisfied: tzdata>=2022.1 in c:\\users\\vinit\\appdata\\local\\packages\\pythonsoftwarefoundation.python.3.10_qbz5n2kfra8p0\\localcache\\local-packages\\python310\\site-packages (from pandas) (2023.3)\n",
      "Requirement already satisfied: numpy>=1.21.0 in c:\\users\\vinit\\appdata\\local\\packages\\pythonsoftwarefoundation.python.3.10_qbz5n2kfra8p0\\localcache\\local-packages\\python310\\site-packages (from pandas) (1.24.3)\n",
      "Requirement already satisfied: six>=1.5 in c:\\users\\vinit\\appdata\\local\\packages\\pythonsoftwarefoundation.python.3.10_qbz5n2kfra8p0\\localcache\\local-packages\\python310\\site-packages (from python-dateutil>=2.8.2->pandas) (1.16.0)\n"
     ]
    }
   ],
   "source": [
    "!python -m pip install plotly\n",
    "!python -m pip install pandas"
   ]
  },
  {
   "cell_type": "code",
   "execution_count": 2,
   "metadata": {},
   "outputs": [
    {
     "ename": "NameError",
     "evalue": "name 'imshowPx' is not defined",
     "output_type": "error",
     "traceback": [
      "\u001b[1;31m---------------------------------------------------------------------------\u001b[0m",
      "\u001b[1;31mNameError\u001b[0m                                 Traceback (most recent call last)",
      "Cell \u001b[1;32mIn[2], line 27\u001b[0m\n\u001b[0;32m     24\u001b[0m labels\u001b[39m=\u001b[39mskimage\u001b[39m.\u001b[39mmeasure\u001b[39m.\u001b[39mlabel(blue_binary4)\n\u001b[0;32m     26\u001b[0m rp\u001b[39m=\u001b[39mskimage\u001b[39m.\u001b[39mmeasure\u001b[39m.\u001b[39mregionprops(labels,blue_binary5)\n\u001b[1;32m---> 27\u001b[0m imshowPx(blue_binary5,gray\u001b[39m=\u001b[39m\u001b[39mTrue\u001b[39;00m,cv\u001b[39m=\u001b[39m\u001b[39mFalse\u001b[39;00m)\n\u001b[0;32m     28\u001b[0m img_orig\u001b[39m=\u001b[39mimg\u001b[39m.\u001b[39mcopy()\n\u001b[0;32m     29\u001b[0m \u001b[39mif\u001b[39;00m(\u001b[39mlen\u001b[39m(rp)\u001b[39m>\u001b[39m\u001b[39m0\u001b[39m):\n",
      "\u001b[1;31mNameError\u001b[0m: name 'imshowPx' is not defined"
     ]
    }
   ],
   "source": []
  },
  {
   "cell_type": "code",
   "execution_count": 1,
   "metadata": {},
   "outputs": [],
   "source": [
    "import cv2,plotly,plotly.express as px,skimage\n",
    "\n",
    "vid= cv2.VideoCapture(0)\n",
    "\n",
    "while True:\n",
    "    flag, img = vid.read() #BGR\n",
    "    if flag:\n",
    "        gray_img = cv2.cvtColor(img, cv2.COLOR_BGR2GRAY)\n",
    "        blue_img = cv2.subtract(img[:,:,-3],gray_img)\n",
    "        \n",
    "        \n",
    "    th,blue_binary=cv2.threshold(blue_img,55,255,cv2.THRESH_BINARY)\n",
    "    blue_binary2=skimage.morphology.remove_small_objects(blue_binary.astype(bool),150)\n",
    "    blue_binary3=skimage.morphology.remove_small_holes(blue_binary2,350)\n",
    "    strel = cv2.getStructuringElement(cv2.MORPH_ELLIPSE,(10,10))\n",
    "    blue_binary4=cv2.dilate(blue_binary3.astype('uint8'),strel,iterations=1)\n",
    "\n",
    "    #blue_binary5=skimage.morphology.remove_small_holes(blue_binary4.astype(bool),5000)\n",
    "    labels=skimage.measure.label(blue_binary4)\n",
    "\n",
    "    rp=skimage.measure.regionprops(labels,blue_binary4)\n",
    "# imshowPx(blue_binary5,gray=True,cv=False)\n",
    "    img_orig=img.copy()\n",
    "    if(len(rp)>0):\n",
    "        (y1,x1,y2,x2)=rp[0].bbox\n",
    "        cv2.rectangle(\n",
    "            img_orig,\n",
    "            pt1=(x1,y1),pt2=(x2,y2),\n",
    "            color=(255,255,0),\n",
    "            thickness=4\n",
    "        )\n",
    "    cv2.imshow('preview',img_orig)\n",
    "    key=cv2.waitKey(1)\n",
    "    if key==ord('a'):\n",
    "            break\n",
    "vid.release()\n",
    "cv2.destroyAllWindows()\n",
    "    # cv2.waitKey(1)\n",
    "\n"
   ]
  },
  {
   "cell_type": "code",
   "execution_count": null,
   "metadata": {},
   "outputs": [],
   "source": [
    "import cv2\n",
    "vid = cv2.VideoCapture(0)\n",
    "fd=cv2.CascadeClassifier(\n",
    "    cv2.data.haarcascades+'haarcascade_frontalface_default.xml'\n",
    ")\n",
    "\n",
    "frameCount = 0\n",
    "name = input('Enter your name:')\n",
    "while True:\n",
    "    flag, img = vid.read()\n",
    "    if flag:\n",
    "        faces = fd.detectMultiScale(\n",
    "            cv2.cvtColor(img, cv2.COLOR_BGR2GRAY),\n",
    "            scaleFactor = 1.1,\n",
    "            minNeighbors = 5,\n",
    "            minSize = (50,50)\n",
    "        )\n",
    "        if len(faces) == 1:\n",
    "            x,y,w,h = faces[0]\n",
    "            img_face = img[y:y+h, x:x+w, :].copy()\n",
    "            cv2.imwrite(f'{name}_{frameCount}.png', img_face)\n",
    "            frameCount += 1\n",
    "\n",
    "            if frameCount == 20:\n",
    "                break\n",
    "\n",
    "        cv2.imshow('preview', img)\n",
    "        key = cv2.waitKey(1)\n",
    "        if key == ord('q'):\n",
    "            break\n",
    "cv2.destroyAllWindows()\n",
    "cv2.waitKey(1)\n",
    "vid.release()"
   ]
  },
  {
   "cell_type": "code",
   "execution_count": null,
   "metadata": {},
   "outputs": [],
   "source": []
  }
 ],
 "metadata": {
  "kernelspec": {
   "display_name": "Python 3",
   "language": "python",
   "name": "python3"
  },
  "language_info": {
   "codemirror_mode": {
    "name": "ipython",
    "version": 3
   },
   "file_extension": ".py",
   "mimetype": "text/x-python",
   "name": "python",
   "nbconvert_exporter": "python",
   "pygments_lexer": "ipython3",
   "version": "3.10.11"
  },
  "orig_nbformat": 4
 },
 "nbformat": 4,
 "nbformat_minor": 2
}
